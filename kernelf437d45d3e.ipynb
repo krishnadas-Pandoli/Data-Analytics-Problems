{
 "cells": [
  {
   "cell_type": "code",
   "execution_count": null,
   "metadata": {
    "collapsed": true,
    "deletable": true,
    "editable": true
   },
   "outputs": [],
   "source": [
    "%matplotlib inline\n",
    "import pandas as pd\n",
    "import numpy as np\n",
    "import seaborn as sns\n",
    "import matplotlib.pyplot as plt \n",
    "sns.set(style=\"whitegrid\", color_codes=True)\n",
    "df = pd.read_csv('../input/retail-marketing/retailMarketingDI.csv')\n",
    "df.columns = df.columns.str.lower()\n",
    "print(\"DataFrame Columns\\n\", df.columns.tolist())\n",
    "df.head()"
   ]
  },
  {
   "cell_type": "code",
   "execution_count": null,
   "metadata": {
    "collapsed": true,
    "deletable": true,
    "editable": true
   },
   "outputs": [],
   "source": [
    "\"Number of Rows:%s and Number of Columns:%s\" %(len(df), len(df.columns))"
   ]
  },
  {
   "cell_type": "markdown",
   "metadata": {
    "deletable": true,
    "editable": true
   },
   "source": [
    "# understanding the difference between the Categorical (discrete) and Ordinal (continuous) Data"
   ]
  },
  {
   "cell_type": "code",
   "execution_count": null,
   "metadata": {
    "collapsed": true,
    "deletable": true,
    "editable": true
   },
   "outputs": [],
   "source": [
    "print('These are the categorical values')\n",
    "print(\"age\", df.age.unique().tolist())\n",
    "print(\"gender\", df.gender.unique().tolist())\n",
    "print(\"ownhome\", df.ownhome.unique().tolist())\n",
    "print(\"married\", df.married.unique().tolist())\n",
    "print(\"location\", df.location.unique().tolist())\n",
    "print(\"history\", df.history.unique().tolist())\n",
    "print(\"catalogs\", sorted(df.catalogs.unique().tolist()))\n",
    "print(\"childrens\", sorted(df.children.unique().tolist()))\n",
    "print('----------------------------')\n",
    "print(\"salary min:%s mean:%s median:%s max:%s mode:%s\"% (df.salary.min(), df.salary.mean(),df.salary.median(), df.salary.max(), df.salary.mode()))\n",
    "print(\"amount spent min:%s mean:%s median:%s max:%s mode:%s\"% (df.amountspent.min(), round(df.amountspent.mean(), 2),df.amountspent.median(), df.amountspent.max(), df.amountspent.mode()))\n",
    "print(\"amount spent min:%s mean:%s median:%s max:%s mode:%s\"% (df.amountspent.min(), round(df.amountspent.mean(), 2),df.amountspent.median(), df.amountspent.max(), df.amountspent.mode()))\n"
   ]
  },
  {
   "cell_type": "code",
   "execution_count": null,
   "metadata": {
    "collapsed": true,
    "deletable": true,
    "editable": true
   },
   "outputs": [],
   "source": [
    "df['age'] = pd.Categorical(df.age, categories=['Young', 'Middle', 'Old'],ordered=True)\n",
    "df['gender'] = df.gender.astype('category')\n",
    "df['ownhome'] = df.ownhome.astype('category')\n",
    "df['married'] = df.married.astype('category')\n",
    "df['location'] = df.location.astype('category')\n",
    "df['children'] = df.children.astype('category')\n",
    "df['history'] = pd.Categorical(df.history, categories=['Low', 'Medium', 'High'],ordered=True)\n",
    "df['catalogs'] = df.catalogs.astype('category')\n",
    "print(df.dtypes)"
   ]
  },
  {
   "cell_type": "markdown",
   "metadata": {
    "deletable": true,
    "editable": true
   },
   "source": [
    "## Understanding the values split of each categorical column. How much of the data in the table belongs to each category in percentage"
   ]
  },
  {
   "cell_type": "code",
   "execution_count": null,
   "metadata": {
    "collapsed": true,
    "deletable": true,
    "editable": true
   },
   "outputs": [],
   "source": [
    "print(100 * df.age.value_counts()/len(df))\n",
    "print('---------------------')\n",
    "print(100 * df.gender.value_counts()/len(df))\n",
    "print('---------------------')\n",
    "print(100 * df.ownhome.value_counts()/len(df))\n",
    "print('---------------------')\n",
    "print(100 * df.married.value_counts()/len(df))\n",
    "print('---------------------')\n",
    "print(100 * df.location.value_counts()/len(df))\n",
    "print('---------------------')\n",
    "print(100 * df.children.value_counts()/len(df))\n",
    "print('---------------------')\n",
    "print(100 * df.history.value_counts()/len(df))\n",
    "print('---------------------')\n",
    "print(100 * df.catalogs.value_counts()/len(df))\n",
    "print('---------------------')"
   ]
  },
  {
   "cell_type": "markdown",
   "metadata": {
    "deletable": true,
    "editable": true
   },
   "source": [
    "## Understanding the ratio of missing values. Where flase singals there are no null values, and true singals that there are missing values."
   ]
  },
  {
   "cell_type": "markdown",
   "metadata": {
    "deletable": true,
    "editable": true
   },
   "source": [
    "Since we don't have the origin of the source data, we can't determine the reason for the missing values. If we dope the missing data rows, we are still left with 69.7% of data. This is not a bad start. "
   ]
  },
  {
   "cell_type": "code",
   "execution_count": null,
   "metadata": {
    "collapsed": true,
    "deletable": true,
    "editable": true
   },
   "outputs": [],
   "source": [
    "print(\"age:\" ,df.age.isnull().value_counts()/len(df) * 100)\n",
    "print('-------------------------------------')\n",
    "print(\"gender:\" ,df.gender.isnull().value_counts()/len(df) * 100)\n",
    "print('-------------------------------------')\n",
    "print(\"ownhome:\" ,df.ownhome.isnull().value_counts()/len(df) * 100)\n",
    "print('-------------------------------------')\n",
    "print(\"married:\" ,df.married.isnull().value_counts()/len(df) * 100)\n",
    "print('-------------------------------------')\n",
    "print(\"location:\" ,df.location.isnull().value_counts()/len(df) * 100)\n",
    "print('-------------------------------------')\n",
    "print(\"salary:\" ,df.salary.isnull().value_counts()/len(df) * 100)\n",
    "print('-------------------------------------')\n",
    "print(\"children:\" ,df.children.isnull().value_counts()/len(df) * 100)\n",
    "print('-------------------------------------')\n",
    "print(\"history:\" ,df.history.isnull().value_counts()/len(df) * 100)\n",
    "print('-------------------------------------')\n",
    "print(\"catalogs:\" ,df.catalogs.isnull().value_counts()/len(df) * 100)\n",
    "print('-------------------------------------')\n",
    "print(\"amountspent:\" ,df.amountspent.isnull().value_counts()/len(df) * 100)\n",
    "print('-------------------------------------')"
   ]
  },
  {
   "cell_type": "code",
   "execution_count": null,
   "metadata": {
    "collapsed": true,
    "deletable": true,
    "editable": true
   },
   "outputs": [],
   "source": [
    "df[df.amountspent.isnull()]"
   ]
  },
  {
   "cell_type": "markdown",
   "metadata": {
    "deletable": true,
    "editable": true
   },
   "source": [
    "As per our expecting we should have 697 rows. But the new DataFrame has only 691 rows. Where did the 6 rows go?\n",
    "We have 0 value in the salary, the amount spent column. This signals missing value, based on the nature of the data. This is hypothesis can't be tested since we don't know enough about the data collection methods. We would drop rows where we have 0 value in the salary and amount spent column. \n",
    "\n",
    "By doing so we only lose 0.06% data and are left with 69.1%. This something we can work with.\n",
    "\n",
    "We have a concept in machine learning of inferring the missing values from the other columns in the dataset. You can either use mean, mode or any other calculation for achieving this task. This improves the accuracy of data. But the caveat is that it can introduce a lot of bias as well. We don't any source to double-checking the result. "
   ]
  },
  {
   "cell_type": "code",
   "execution_count": null,
   "metadata": {
    "collapsed": true,
    "deletable": true,
    "editable": true
   },
   "outputs": [],
   "source": [
    "df_drop_na = df.dropna()\n",
    "df_drop_na = df_drop_na[df_drop_na.salary > 1].copy()\n",
    "df_drop_na = df_drop_na[df_drop_na.amountspent != 0].copy()"
   ]
  },
  {
   "cell_type": "code",
   "execution_count": null,
   "metadata": {
    "collapsed": true,
    "deletable": true,
    "editable": true
   },
   "outputs": [],
   "source": [
    "len(df_drop_na)"
   ]
  },
  {
   "cell_type": "markdown",
   "metadata": {
    "deletable": true,
    "editable": true
   },
   "source": [
    "Final state of the cleaned DataFrame"
   ]
  },
  {
   "cell_type": "code",
   "execution_count": null,
   "metadata": {
    "collapsed": true,
    "deletable": true,
    "editable": true
   },
   "outputs": [],
   "source": [
    "df_drop_na.isnull().any()"
   ]
  },
  {
   "cell_type": "markdown",
   "metadata": {
    "deletable": true,
    "editable": true
   },
   "source": [
    "# Univariate Analysis"
   ]
  },
  {
   "cell_type": "markdown",
   "metadata": {
    "deletable": true,
    "editable": true
   },
   "source": [
    "## Categoical Values"
   ]
  },
  {
   "cell_type": "code",
   "execution_count": null,
   "metadata": {
    "collapsed": true,
    "deletable": true,
    "editable": true
   },
   "outputs": [],
   "source": [
    "sns.countplot(x='age', data = df_drop_na)\n",
    "plt.suptitle('Frequency of observations by Age')"
   ]
  },
  {
   "cell_type": "code",
   "execution_count": null,
   "metadata": {
    "collapsed": true,
    "deletable": true,
    "editable": true
   },
   "outputs": [],
   "source": [
    "sns.countplot(x='gender', data = df_drop_na)\n",
    "plt.suptitle('Frequency of observations by Gender')"
   ]
  },
  {
   "cell_type": "code",
   "execution_count": null,
   "metadata": {
    "collapsed": true,
    "deletable": true,
    "editable": true
   },
   "outputs": [],
   "source": [
    "sns.countplot(x='ownhome', data = df_drop_na)\n",
    "plt.suptitle('Frequency of observations by Own Home')"
   ]
  },
  {
   "cell_type": "code",
   "execution_count": null,
   "metadata": {
    "collapsed": true,
    "deletable": true,
    "editable": true
   },
   "outputs": [],
   "source": [
    "sns.countplot(x='married', data = df_drop_na)\n",
    "plt.suptitle('Frequency of observations by Married')"
   ]
  },
  {
   "cell_type": "code",
   "execution_count": null,
   "metadata": {
    "collapsed": true,
    "deletable": true,
    "editable": true
   },
   "outputs": [],
   "source": [
    "sns.countplot(x='location', data = df_drop_na)\n",
    "plt.suptitle('Frequency of observations by Locations')"
   ]
  },
  {
   "cell_type": "code",
   "execution_count": null,
   "metadata": {
    "collapsed": true,
    "deletable": true,
    "editable": true
   },
   "outputs": [],
   "source": [
    "sns.countplot(x='children', data = df_drop_na)\n",
    "plt.suptitle('Frequency of observations by Children')"
   ]
  },
  {
   "cell_type": "code",
   "execution_count": null,
   "metadata": {
    "collapsed": true,
    "deletable": true,
    "editable": true
   },
   "outputs": [],
   "source": [
    "sns.countplot(x='catalogs', data = df_drop_na)\n",
    "plt.suptitle('Frequency of observations by Catalogs')"
   ]
  },
  {
   "cell_type": "code",
   "execution_count": null,
   "metadata": {
    "collapsed": true,
    "deletable": true,
    "editable": true
   },
   "outputs": [],
   "source": [
    "sns.countplot(x='history', data = df_drop_na)\n",
    "plt.suptitle('Frequency of observations by History')"
   ]
  },
  {
   "cell_type": "markdown",
   "metadata": {
    "deletable": true,
    "editable": true
   },
   "source": [
    "## Ordinal Values"
   ]
  },
  {
   "cell_type": "code",
   "execution_count": null,
   "metadata": {
    "collapsed": true,
    "deletable": true,
    "editable": true
   },
   "outputs": [],
   "source": [
    "sns.distplot(df_drop_na['salary'])\n",
    "plt.suptitle('Distribution of Salary')"
   ]
  },
  {
   "cell_type": "code",
   "execution_count": null,
   "metadata": {
    "collapsed": true,
    "deletable": true,
    "editable": true
   },
   "outputs": [],
   "source": [
    "sns.distplot(df_drop_na['amountspent'])\n",
    "plt.suptitle('Distribution of Amount Spent')"
   ]
  },
  {
   "cell_type": "markdown",
   "metadata": {
    "deletable": true,
    "editable": true
   },
   "source": [
    "# Bivariate Analysis"
   ]
  },
  {
   "cell_type": "markdown",
   "metadata": {
    "deletable": true,
    "editable": true
   },
   "source": [
    "## C-Q Categorical to Quantitative BY Salary"
   ]
  },
  {
   "cell_type": "code",
   "execution_count": null,
   "metadata": {
    "collapsed": true,
    "deletable": true,
    "editable": true
   },
   "outputs": [],
   "source": [
    "sns.boxplot(x='salary', y = 'age', data=df_drop_na)\n",
    "plt.suptitle('Salary levels by Age')"
   ]
  },
  {
   "cell_type": "code",
   "execution_count": null,
   "metadata": {
    "collapsed": true,
    "deletable": true,
    "editable": true
   },
   "outputs": [],
   "source": [
    "sns.boxplot(x='salary', y = 'gender', data=df_drop_na)\n",
    "plt.suptitle('Salary levels by Gender')"
   ]
  },
  {
   "cell_type": "code",
   "execution_count": null,
   "metadata": {
    "collapsed": true,
    "deletable": true,
    "editable": true
   },
   "outputs": [],
   "source": [
    "sns.boxplot(x='salary', y = 'married', data=df_drop_na)\n",
    "plt.suptitle('Salary levels by Married')"
   ]
  },
  {
   "cell_type": "code",
   "execution_count": null,
   "metadata": {
    "collapsed": true,
    "deletable": true,
    "editable": true
   },
   "outputs": [],
   "source": [
    "sns.boxplot(x='salary', y = 'ownhome', data=df_drop_na)\n",
    "plt.suptitle('Salary levels by Own Home')"
   ]
  },
  {
   "cell_type": "code",
   "execution_count": null,
   "metadata": {
    "collapsed": true,
    "deletable": true,
    "editable": true
   },
   "outputs": [],
   "source": [
    "sns.boxplot(x='salary', y = 'location', data=df_drop_na)\n",
    "plt.suptitle('Salary levels by Locations')"
   ]
  },
  {
   "cell_type": "code",
   "execution_count": null,
   "metadata": {
    "collapsed": true,
    "deletable": true,
    "editable": true
   },
   "outputs": [],
   "source": [
    "sns.boxplot(x='salary', y = 'history', data=df_drop_na)\n",
    "plt.suptitle('Salary levels by History')"
   ]
  },
  {
   "cell_type": "code",
   "execution_count": null,
   "metadata": {
    "collapsed": true,
    "deletable": true,
    "editable": true
   },
   "outputs": [],
   "source": [
    "sns.boxplot(x='salary', y = 'catalogs', data=df_drop_na)\n",
    "plt.suptitle('Salary levels by Catelogs')"
   ]
  },
  {
   "cell_type": "markdown",
   "metadata": {
    "deletable": true,
    "editable": true
   },
   "source": [
    "## C-Q Categorical to Quantitative BY Amount Spent"
   ]
  },
  {
   "cell_type": "code",
   "execution_count": null,
   "metadata": {
    "collapsed": true,
    "deletable": true,
    "editable": true
   },
   "outputs": [],
   "source": [
    "sns.boxplot(x='amountspent', y = 'age', data=df_drop_na)\n",
    "plt.suptitle('Amount Spent levels by Age')"
   ]
  },
  {
   "cell_type": "code",
   "execution_count": null,
   "metadata": {
    "collapsed": true,
    "deletable": true,
    "editable": true
   },
   "outputs": [],
   "source": [
    "sns.boxplot(x='amountspent', y = 'gender', data=df_drop_na)\n",
    "plt.suptitle('Amount Spent levels by Gender')"
   ]
  },
  {
   "cell_type": "code",
   "execution_count": null,
   "metadata": {
    "collapsed": true,
    "deletable": true,
    "editable": true
   },
   "outputs": [],
   "source": [
    "sns.boxplot(x='amountspent', y = 'ownhome', data=df_drop_na)\n",
    "plt.suptitle('Amount Spent levels by Own Home')"
   ]
  },
  {
   "cell_type": "code",
   "execution_count": null,
   "metadata": {
    "collapsed": true,
    "deletable": true,
    "editable": true
   },
   "outputs": [],
   "source": [
    "sns.boxplot(x='amountspent', y = 'location', data=df_drop_na)\n",
    "plt.suptitle('Amount Spent levels by Location')"
   ]
  },
  {
   "cell_type": "code",
   "execution_count": null,
   "metadata": {
    "collapsed": true,
    "deletable": true,
    "editable": true
   },
   "outputs": [],
   "source": [
    "sns.boxplot(x='amountspent', y = 'children', data=df_drop_na)\n",
    "plt.suptitle('Amount Spent levels by Children')"
   ]
  },
  {
   "cell_type": "code",
   "execution_count": null,
   "metadata": {
    "collapsed": true,
    "deletable": true,
    "editable": true
   },
   "outputs": [],
   "source": [
    "sns.boxplot(x='amountspent', y = 'history', data=df_drop_na)\n",
    "plt.suptitle('Amount Spent levels by History')"
   ]
  },
  {
   "cell_type": "code",
   "execution_count": null,
   "metadata": {
    "collapsed": true,
    "deletable": true,
    "editable": true
   },
   "outputs": [],
   "source": [
    "sns.boxplot(x='amountspent', y = 'catalogs', data=df_drop_na)\n",
    "plt.suptitle('Amount Spent levels by Catalogs')"
   ]
  },
  {
   "cell_type": "markdown",
   "metadata": {
    "deletable": true,
    "editable": true
   },
   "source": [
    "## Q-Q Quantitative to Quantitative Salary vs Amount Spent"
   ]
  },
  {
   "cell_type": "code",
   "execution_count": null,
   "metadata": {
    "collapsed": true,
    "deletable": true,
    "editable": true
   },
   "outputs": [],
   "source": [
    "sns.regplot(x='salary', y='amountspent', data=df_drop_na)"
   ]
  },
  {
   "cell_type": "markdown",
   "metadata": {
    "deletable": true,
    "editable": true
   },
   "source": [
    "## C-C Categorical to Categoical split of data based on the percentage"
   ]
  },
  {
   "cell_type": "code",
   "execution_count": null,
   "metadata": {
    "collapsed": true,
    "deletable": true,
    "editable": true
   },
   "outputs": [],
   "source": [
    "pd.DataFrame(round(100* df_drop_na.groupby('age')['gender'].value_counts()/len(df_drop_na),2))"
   ]
  },
  {
   "cell_type": "code",
   "execution_count": null,
   "metadata": {
    "collapsed": true,
    "deletable": true,
    "editable": true
   },
   "outputs": [],
   "source": [
    "pd.DataFrame(round(100* df_drop_na.groupby('age')['ownhome'].value_counts()/len(df_drop_na),2))"
   ]
  },
  {
   "cell_type": "code",
   "execution_count": null,
   "metadata": {
    "collapsed": true,
    "deletable": true,
    "editable": true
   },
   "outputs": [],
   "source": [
    "pd.DataFrame(round(100* df_drop_na.groupby('age')['married'].value_counts()/len(df_drop_na),2))"
   ]
  },
  {
   "cell_type": "code",
   "execution_count": null,
   "metadata": {
    "collapsed": true,
    "deletable": true,
    "editable": true
   },
   "outputs": [],
   "source": [
    "pd.DataFrame(round(100* df_drop_na.groupby('age')['location'].value_counts()/len(df_drop_na),2))"
   ]
  },
  {
   "cell_type": "code",
   "execution_count": null,
   "metadata": {
    "collapsed": true,
    "deletable": true,
    "editable": true
   },
   "outputs": [],
   "source": [
    "pd.DataFrame(round(100* df_drop_na.groupby('age')['children'].value_counts()/len(df_drop_na),2))"
   ]
  },
  {
   "cell_type": "code",
   "execution_count": null,
   "metadata": {
    "collapsed": true,
    "deletable": true,
    "editable": true
   },
   "outputs": [],
   "source": [
    "pd.DataFrame(round(100* df_drop_na.groupby('age')['history'].value_counts()/len(df_drop_na),2))"
   ]
  },
  {
   "cell_type": "code",
   "execution_count": null,
   "metadata": {
    "collapsed": true,
    "deletable": true,
    "editable": true
   },
   "outputs": [],
   "source": [
    "pd.DataFrame(round(100* df_drop_na.groupby('gender')['ownhome'].value_counts()/len(df_drop_na),2))"
   ]
  },
  {
   "cell_type": "code",
   "execution_count": null,
   "metadata": {
    "collapsed": true,
    "deletable": true,
    "editable": true
   },
   "outputs": [],
   "source": [
    "pd.DataFrame(round(100* df_drop_na.groupby('gender')['married'].value_counts()/len(df_drop_na),2))"
   ]
  },
  {
   "cell_type": "code",
   "execution_count": null,
   "metadata": {
    "collapsed": true,
    "deletable": true,
    "editable": true
   },
   "outputs": [],
   "source": [
    "pd.DataFrame(round(100* df_drop_na.groupby('gender')['location'].value_counts()/len(df_drop_na),2))"
   ]
  },
  {
   "cell_type": "code",
   "execution_count": null,
   "metadata": {
    "collapsed": true,
    "deletable": true,
    "editable": true
   },
   "outputs": [],
   "source": [
    "pd.DataFrame(round(100* df_drop_na.groupby('gender')['children'].value_counts()/len(df_drop_na),2))"
   ]
  },
  {
   "cell_type": "code",
   "execution_count": null,
   "metadata": {
    "collapsed": true,
    "deletable": true,
    "editable": true
   },
   "outputs": [],
   "source": [
    "pd.DataFrame(round(100* df_drop_na.groupby('gender')['history'].value_counts()/len(df_drop_na),2))"
   ]
  },
  {
   "cell_type": "code",
   "execution_count": null,
   "metadata": {
    "collapsed": true,
    "deletable": true,
    "editable": true
   },
   "outputs": [],
   "source": [
    "pd.DataFrame(round(100* df_drop_na.groupby('gender')['catalogs'].value_counts()/len(df_drop_na),2))"
   ]
  },
  {
   "cell_type": "code",
   "execution_count": null,
   "metadata": {
    "collapsed": true,
    "deletable": true,
    "editable": true
   },
   "outputs": [],
   "source": [
    "df_drop_na[['salary', 'amountspent', 'age']].groupby('age').describe().T"
   ]
  },
  {
   "cell_type": "code",
   "execution_count": null,
   "metadata": {
    "collapsed": true,
    "deletable": true,
    "editable": true
   },
   "outputs": [],
   "source": [
    "df_drop_na[['salary', 'amountspent', 'gender']].groupby('gender').describe().T"
   ]
  },
  {
   "cell_type": "code",
   "execution_count": null,
   "metadata": {
    "collapsed": true,
    "deletable": true,
    "editable": true
   },
   "outputs": [],
   "source": [
    "df_drop_na[['salary', 'amountspent', 'ownhome']].groupby('ownhome').describe().T"
   ]
  },
  {
   "cell_type": "code",
   "execution_count": null,
   "metadata": {
    "collapsed": true,
    "deletable": true,
    "editable": true
   },
   "outputs": [],
   "source": [
    "df_drop_na[['salary', 'amountspent', 'married']].groupby('married').describe().T"
   ]
  },
  {
   "cell_type": "code",
   "execution_count": null,
   "metadata": {
    "collapsed": true,
    "deletable": true,
    "editable": true
   },
   "outputs": [],
   "source": [
    "df_drop_na[['salary', 'amountspent', 'location']].groupby('location').describe().T"
   ]
  },
  {
   "cell_type": "code",
   "execution_count": null,
   "metadata": {
    "collapsed": true,
    "deletable": true,
    "editable": true
   },
   "outputs": [],
   "source": [
    "df_drop_na[['salary', 'amountspent', 'children']].groupby('children').describe().T"
   ]
  },
  {
   "cell_type": "code",
   "execution_count": null,
   "metadata": {
    "collapsed": true,
    "deletable": true,
    "editable": true
   },
   "outputs": [],
   "source": [
    "df_drop_na[['salary', 'amountspent', 'history']].groupby('history').describe().T"
   ]
  },
  {
   "cell_type": "code",
   "execution_count": null,
   "metadata": {
    "collapsed": true,
    "deletable": true,
    "editable": true
   },
   "outputs": [],
   "source": [
    "df_drop_na[['salary', 'amountspent', 'catalogs']].groupby('catalogs').describe().T"
   ]
  },
  {
   "cell_type": "markdown",
   "metadata": {
    "deletable": true,
    "editable": true
   },
   "source": [
    "## Correlation Matrix"
   ]
  },
  {
   "cell_type": "code",
   "execution_count": null,
   "metadata": {
    "collapsed": true,
    "deletable": true,
    "editable": true,
    "scrolled": true
   },
   "outputs": [],
   "source": [
    "pd.get_dummies(df_drop_na).corr().style.background_gradient(cmap='coolwarm')"
   ]
  },
  {
   "cell_type": "markdown",
   "metadata": {
    "deletable": true,
    "editable": true
   },
   "source": [
    "# Findings"
   ]
  },
  {
   "cell_type": "markdown",
   "metadata": {
    "deletable": true,
    "editable": true
   },
   "source": [
    "As per the limited background of the data, we can conclude the following information strictly look at the data. \n",
    "\n",
    "We have some encode information in the data we need to assume information about the data. Some of the key finds are as follows.\n",
    "\n",
    "1. People that have a high history of shopping from the location, are high spenders and have higher salary bracket. They preform to shop in the catalogue 24. These people are usually married and homeowner and don't rent their property. The shopper from the married couple is usually male and middle age.\n",
    "2. The location of shopper compared to the history of visiting. We see people the live far, have high history. The people living in the far location like to shop in catalogue 18 and 24.\n",
    "3. If the location is looking for high spender, they should focus the campaign on middle, or old age male. Who are married and live far from the location, with the product belonging to catalogue 18, and 24.\n",
    "4. If the location is looking for a high net worth (salary) individual. They location shop focus on middle-aged married male and house owner. With the product belonging to catalogue 24.\n",
    "5. If the location is targeting young buyer, they a better chance of applying to them with the product belonging to catalogue 6.\n"
   ]
  },
  {
   "cell_type": "code",
   "execution_count": null,
   "metadata": {
    "collapsed": true,
    "deletable": true,
    "editable": true
   },
   "outputs": [],
   "source": []
  }
 ],
 "metadata": {
  "kernelspec": {
   "display_name": "Python 3",
   "language": "python",
   "name": "python3"
  },
  "language_info": {
   "codemirror_mode": {
    "name": "ipython",
    "version": 3
   },
   "file_extension": ".py",
   "mimetype": "text/x-python",
   "name": "python",
   "nbconvert_exporter": "python",
   "pygments_lexer": "ipython3",
   "version": "3.5.2"
  }
 },
 "nbformat": 4,
 "nbformat_minor": 1
}
